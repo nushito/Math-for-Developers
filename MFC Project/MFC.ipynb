{
 "cells": [
  {
   "cell_type": "markdown",
   "id": "70aedc8a-6966-406e-a0f2-046bbb4cd75e",
   "metadata": {},
   "source": [
    "### INTRODUCTION\n",
    " \n",
    "As we now, especially for machine learning, managable and compressed datasets for research make the proccess easier to implementation, reduce storage space. So for developers, main task is to reduce database with minimal errors without losing any important or relevant data. Nowdays speech recognition or any other type of speech system is very important. \n",
    "There are many techniques for keeping signal information while reduce the dimension. Mel-frequency cepstral extracts these features that represent the speech properties.\n",
    " \n",
    "From Wikipedia:  \n",
    "\"In sound processing, the mel-frequency cepstrum (MFC) is a representation of the short-term power spectrum of a sound, based on a linear cosine transform of a log power spectrum on a nonlinear mel scale of frequency.\"\n",
    " \n",
    "#### Explanation:\n",
    " \n",
    "For feature extraction, Mel Frequency Cepstrum Coefficient (MFCC) is capable to extract harmonics and sidebands of the spectrum version of the signal in some period of time. MFCCs are composing the MFC. These coefficients are derived form the type of cepstral representation of the audio clip. MFCCs provide a compact representation of the audio signal that captures the important features related to human hearing. These features can then be used in applications like speech recognition.\n",
    " \n",
    "The difference in MFC is that, as we know humans can hear between some determined frequencies in non-linear way. Mel scale is presenting (convert) actual frequency scale to scale in a way human percieve the sounds. \n",
    " \n",
    "Sound wave is a wave, which can be presented like series of numbers (samples). Samples \"sample rates\" are measured in Hz, which we can call Frequency. Spectrum sound is the presentation of all frequancies and amplitudes. Amplitude present how intense is the wave in that time. Power of spectrum is telling how much of different frequincies is present in a sound signal at some time. \n",
    " \n",
    "Cepstrum is helping to investigate and separate the different components of the sound signal. To get the cepstrum, you compute the logarithm of the power spectrum (to compress the range of values) and then perform a transformation called the Discrete Cosine Transform (DCT). \n",
    " \n",
    "Humans are more sensitive to changes in quiet sounds than in very loud sounds. Taking the logarithm of the power spectrum helps match how humans hear loudness.\n",
    " \n",
    "If we summirize all the information, there are few steps we have to go trough with corresponding equations:\n",
    " \n",
    "1. Pre-emphasis filter: On this step, we have diference equation, which amplify the high frequencies $$y(t) = x(t) - \\alpha\\\\x(t-1)$$ where $\\alpha \\in (0.95, 0.97) $ this is the pre-emphasis coefficient, $x(t) is the original signal$\n",
    "2. Framing: gets sliced into (overlapping) frames $$x_{frames}(n) = x(n + mM)$$ $m = 0,1,2,\\dots,[\\frac{N-L}{M}]$ - cover all possible frames, where N is the signal length, M is the frame step, L is the length of each frame in the samples; $n$ is in range $(0, L-1)$ and cover lenght of 1 frame\n",
    "3. Windowing: Window function is applied to each frame. Used concept is Hamming window, smoothing functions $$$$\n",
    "4. FFT and Power Spectrum: we do a Fourier transform on each frame (or more specifically a Short-Time Fourier Transform) and calculate the power spectrum; $$$$\n",
    "5. Mel Filterbank $$$$\n",
    "6. Logarithm $$$$\n",
    "7. Discrete Cosine Transform (DCT) retaining a number of the resulting coefficients while the rest are discarded. $$$$\n",
    "8. A final step is mean normalization."
   ]
  }
 ],
 "metadata": {
  "kernelspec": {
   "display_name": "Python 3 (ipykernel)",
   "language": "python",
   "name": "python3"
  },
  "language_info": {
   "codemirror_mode": {
    "name": "ipython",
    "version": 3
   },
   "file_extension": ".py",
   "mimetype": "text/x-python",
   "name": "python",
   "nbconvert_exporter": "python",
   "pygments_lexer": "ipython3",
   "version": "3.11.7"
  }
 },
 "nbformat": 4,
 "nbformat_minor": 5
}
