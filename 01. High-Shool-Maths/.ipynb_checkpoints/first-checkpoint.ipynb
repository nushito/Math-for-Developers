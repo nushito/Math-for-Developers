{
 "cells": [
  {
   "cell_type": "code",
   "execution_count": 1,
   "id": "c63c6d8b-56e3-4bb3-bc03-207a3ac49629",
   "metadata": {},
   "outputs": [],
   "source": [
    "def uravnenie(a,b):\n",
    "    if a == 0 :\n",
    "        return []\n",
    "    else:\n",
    "        return -b/a\n",
    "        \n",
    "        "
   ]
  },
  {
   "cell_type": "code",
   "execution_count": 2,
   "id": "70f33815-33d9-49d6-ba4c-44842ccd53cb",
   "metadata": {},
   "outputs": [
    {
     "name": "stdout",
     "output_type": "stream",
     "text": [
      "-0.02\n"
     ]
    }
   ],
   "source": [
    "print (uravnenie(100,2))"
   ]
  },
  {
   "cell_type": "code",
   "execution_count": 4,
   "id": "61b13d55-ca33-462e-8808-12f678783308",
   "metadata": {},
   "outputs": [
    {
     "data": {
      "text/plain": [
       "20"
      ]
     },
     "execution_count": 4,
     "metadata": {},
     "output_type": "execute_result"
    }
   ],
   "source": [
    "y = 10\n",
    "for i in range(1,5):\n",
    "    y += i\n",
    "y"
   ]
  }
 ],
 "metadata": {
  "kernelspec": {
   "display_name": "Python 3 (ipykernel)",
   "language": "python",
   "name": "python3"
  },
  "language_info": {
   "codemirror_mode": {
    "name": "ipython",
    "version": 3
   },
   "file_extension": ".py",
   "mimetype": "text/x-python",
   "name": "python",
   "nbconvert_exporter": "python",
   "pygments_lexer": "ipython3",
   "version": "3.11.7"
  }
 },
 "nbformat": 4,
 "nbformat_minor": 5
}
