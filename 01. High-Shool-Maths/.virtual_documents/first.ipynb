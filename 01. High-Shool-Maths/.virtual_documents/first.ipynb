def uravnenie(a,b):
    if a == 0 :
        return []
    else:
        return -b/a
        
        


print (uravnenie(100,2))


y = 10
for i in range(1,5):
    y += i
y
