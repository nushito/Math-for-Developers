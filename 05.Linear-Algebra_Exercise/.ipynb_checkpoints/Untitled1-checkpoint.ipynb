{
 "cells": [
  {
   "cell_type": "code",
   "execution_count": 6,
   "id": "01566d07-177d-46d7-8368-532cd279e0b2",
   "metadata": {},
   "outputs": [],
   "source": [
    "\n",
    "import numpy as np\n",
    "import matplotlib.pyplot as plt\n",
    "import sympy\n",
    "from sympy import sin, cos, Function, diff, pi"
   ]
  },
  {
   "cell_type": "code",
   "execution_count": 5,
   "id": "f72d9170-f851-43ee-a550-03ccb3475e5e",
   "metadata": {},
   "outputs": [],
   "source": [
    "\n",
    "def get_limit(f,a):\n",
    "    epsilon = np.array([10**p for p in np.arange(0, -11, -1, dtype =  float)])\n",
    "    x = np.append(a-epsilon, a+epsilon[::-1])\n",
    "    y = f(x)  \n",
    "    return np.stack([x,y],axis=1)"
   ]
  },
  {
   "cell_type": "code",
   "execution_count": 4,
   "id": "8ad44572-d094-489f-80b7-665463487c5f",
   "metadata": {},
   "outputs": [
    {
     "name": "stdout",
     "output_type": "stream",
     "text": [
      "[[ 2.          4.        ]\n",
      " [ 2.9         8.41      ]\n",
      " [ 2.99        8.9401    ]\n",
      " [ 2.999       8.994001  ]\n",
      " [ 2.9999      8.99940001]\n",
      " [ 2.99999     8.99994   ]\n",
      " [ 2.999999    8.999994  ]\n",
      " [ 2.9999999   8.9999994 ]\n",
      " [ 2.99999999  8.99999994]\n",
      " [ 3.          8.99999999]\n",
      " [ 3.          9.        ]\n",
      " [ 3.          9.        ]\n",
      " [ 3.          9.00000001]\n",
      " [ 3.00000001  9.00000006]\n",
      " [ 3.0000001   9.0000006 ]\n",
      " [ 3.000001    9.000006  ]\n",
      " [ 3.00001     9.00006   ]\n",
      " [ 3.0001      9.00060001]\n",
      " [ 3.001       9.006001  ]\n",
      " [ 3.01        9.0601    ]\n",
      " [ 3.1         9.61      ]\n",
      " [ 4.         16.        ]]\n"
     ]
    }
   ],
   "source": [
    "print(get_limit(lambda x: x ** 2, 3))"
   ]
  },
  {
   "cell_type": "code",
   "execution_count": 21,
   "id": "d5162cf3-956b-4377-a15a-ebff7f677030",
   "metadata": {},
   "outputs": [
    {
     "name": "stderr",
     "output_type": "stream",
     "text": [
      "C:\\Users\\nushi\\AppData\\Local\\Temp\\ipykernel_5400\\1507142731.py:1: DeprecationWarning: `np.math` is a deprecated alias for the standard library `math` module (Deprecated Numpy 1.25). Replace usages of `np.math` with `math`\n",
      "  a  = np.math.factorial(5)\n"
     ]
    },
    {
     "data": {
      "text/plain": [
       "120"
      ]
     },
     "execution_count": 21,
     "metadata": {},
     "output_type": "execute_result"
    }
   ],
   "source": [
    "a  = np.math.factorial(5)\n",
    "a"
   ]
  }
 ],
 "metadata": {
  "kernelspec": {
   "display_name": "Python 3 (ipykernel)",
   "language": "python",
   "name": "python3"
  },
  "language_info": {
   "codemirror_mode": {
    "name": "ipython",
    "version": 3
   },
   "file_extension": ".py",
   "mimetype": "text/x-python",
   "name": "python",
   "nbconvert_exporter": "python",
   "pygments_lexer": "ipython3",
   "version": "3.11.7"
  }
 },
 "nbformat": 4,
 "nbformat_minor": 5
}
