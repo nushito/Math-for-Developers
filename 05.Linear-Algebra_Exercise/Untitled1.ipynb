{
 "cells": [
  {
   "cell_type": "code",
   "execution_count": 31,
   "id": "01566d07-177d-46d7-8368-532cd279e0b2",
   "metadata": {},
   "outputs": [],
   "source": [
    "import numpy as np\n",
    "import matplotlib.pyplot as plt\n",
    "import sympy\n",
    "from sympy import sin, cos, Function, diff, pi\n",
    "import math\n",
    "from math import comb\n",
    "from fractions import Fraction\n",
    "import string"
   ]
  },
  {
   "cell_type": "code",
   "execution_count": 5,
   "id": "f72d9170-f851-43ee-a550-03ccb3475e5e",
   "metadata": {},
   "outputs": [],
   "source": [
    "\n",
    "def get_limit(f,a):\n",
    "    epsilon = np.array([10**p for p in np.arange(0, -11, -1, dtype =  float)])\n",
    "    x = np.append(a-epsilon, a+epsilon[::-1])\n",
    "    y = f(x)  \n",
    "    return np.stack([x,y],axis=1)"
   ]
  },
  {
   "cell_type": "code",
   "execution_count": 4,
   "id": "8ad44572-d094-489f-80b7-665463487c5f",
   "metadata": {},
   "outputs": [
    {
     "name": "stdout",
     "output_type": "stream",
     "text": [
      "[[ 2.          4.        ]\n",
      " [ 2.9         8.41      ]\n",
      " [ 2.99        8.9401    ]\n",
      " [ 2.999       8.994001  ]\n",
      " [ 2.9999      8.99940001]\n",
      " [ 2.99999     8.99994   ]\n",
      " [ 2.999999    8.999994  ]\n",
      " [ 2.9999999   8.9999994 ]\n",
      " [ 2.99999999  8.99999994]\n",
      " [ 3.          8.99999999]\n",
      " [ 3.          9.        ]\n",
      " [ 3.          9.        ]\n",
      " [ 3.          9.00000001]\n",
      " [ 3.00000001  9.00000006]\n",
      " [ 3.0000001   9.0000006 ]\n",
      " [ 3.000001    9.000006  ]\n",
      " [ 3.00001     9.00006   ]\n",
      " [ 3.0001      9.00060001]\n",
      " [ 3.001       9.006001  ]\n",
      " [ 3.01        9.0601    ]\n",
      " [ 3.1         9.61      ]\n",
      " [ 4.         16.        ]]\n"
     ]
    }
   ],
   "source": [
    "print(get_limit(lambda x: x ** 2, 3))"
   ]
  },
  {
   "cell_type": "code",
   "execution_count": 17,
   "id": "d5162cf3-956b-4377-a15a-ebff7f677030",
   "metadata": {},
   "outputs": [],
   "source": [
    "def derivative(f,x,order):\n",
    "    x = sympy.symbols(\"x\")\n",
    "    y = f(x)\n",
    "    return y.diff(x,order)"
   ]
  },
  {
   "cell_type": "code",
   "execution_count": 19,
   "id": "f7247938-499c-4328-be96-bdc1e4733c7d",
   "metadata": {},
   "outputs": [
    {
     "ename": "AttributeError",
     "evalue": "'numpy.ndarray' object has no attribute 'diff'",
     "output_type": "error",
     "traceback": [
      "\u001b[1;31m---------------------------------------------------------------------------\u001b[0m",
      "\u001b[1;31mAttributeError\u001b[0m                            Traceback (most recent call last)",
      "Cell \u001b[1;32mIn[19], line 1\u001b[0m\n\u001b[1;32m----> 1\u001b[0m derivative(\u001b[38;5;28;01mlambda\u001b[39;00m x: x\u001b[38;5;241m+\u001b[39m\u001b[38;5;241m2\u001b[39m,\u001b[38;5;241m5\u001b[39m,\u001b[38;5;241m5\u001b[39m)\n",
      "Cell \u001b[1;32mIn[17], line 4\u001b[0m, in \u001b[0;36mderivative\u001b[1;34m(f, x, order)\u001b[0m\n\u001b[0;32m      2\u001b[0m x \u001b[38;5;241m=\u001b[39m sympy\u001b[38;5;241m.\u001b[39msymbols(\u001b[38;5;124m\"\u001b[39m\u001b[38;5;124mx\u001b[39m\u001b[38;5;124m\"\u001b[39m)\n\u001b[0;32m      3\u001b[0m y \u001b[38;5;241m=\u001b[39m np\u001b[38;5;241m.\u001b[39mvectorize(f)(x)\n\u001b[1;32m----> 4\u001b[0m \u001b[38;5;28;01mreturn\u001b[39;00m y\u001b[38;5;241m.\u001b[39mdiff(x,order)\n",
      "\u001b[1;31mAttributeError\u001b[0m: 'numpy.ndarray' object has no attribute 'diff'"
     ]
    }
   ],
   "source": [
    "derivative(lambda x: x+2,5,5)"
   ]
  },
  {
   "cell_type": "code",
   "execution_count": 26,
   "id": "9b220f6c-b14c-43b9-9272-b07fea97f1e9",
   "metadata": {},
   "outputs": [
    {
     "name": "stdout",
     "output_type": "stream",
     "text": [
      "The {i}-th derivative of sin(x) at x = 3 is: -0.9899924949263728\n",
      "The {i}-th derivative of sin(x) at x = 3 is: -0.14085954624931674\n",
      "The {i}-th derivative of sin(x) at x = 3 is: -3469.446951953614\n"
     ]
    }
   ],
   "source": [
    "def f(x):\n",
    "    return math.sin(x)\n",
    "a = 3\n",
    "sum = 0\n",
    "h = 1e-7\n",
    "# Function to compute the n-th derivative of f(x) at point a using central difference\n",
    "def derivative(f, a, n, h):\n",
    "    if n == 0:\n",
    "        return f(a)\n",
    "    else:\n",
    "        # Central difference formula for numerical differentiation\n",
    "        return (derivative(f, a + h, n - 1, h) - derivative(f, a - h, n - 1, h)) / (2 * h)\n",
    "\n",
    "# Compute the first three derivatives of sin(x) at point 3\n",
    "for i in range(1, 4):\n",
    "    derivative_at_a = derivative(f, a, i, h)\n",
    "    \n",
    "    print(\"The {i}-th derivative of sin(x) at x = 3 is:\", derivative_at_a)"
   ]
  },
  {
   "cell_type": "code",
   "execution_count": null,
   "id": "705f1b86-999b-4719-9261-b15b160a9bbc",
   "metadata": {},
   "outputs": [],
   "source": [
    "def name():\n",
    "    x = np.linspace(0,10,10)\n",
    "    x_l = 1\n",
    "    y_l = 0\n",
    "    y_m = 0\n",
    "    x_m = 0\n",
    "    for i in range(x_l,10)\n",
    "        y_l += 0.5\n",
    "    for x i range(0,5)\n",
    "        print(\"-\")"
   ]
  },
  {
   "cell_type": "code",
   "execution_count": 2,
   "id": "5808d121-2f9a-45a8-acca-441fd75ac919",
   "metadata": {},
   "outputs": [
    {
     "data": {
      "text/plain": [
       "6"
      ]
     },
     "execution_count": 2,
     "metadata": {},
     "output_type": "execute_result"
    }
   ],
   "source": [
    "comb(4,2)"
   ]
  },
  {
   "cell_type": "code",
   "execution_count": 4,
   "id": "d656097d-1081-427e-911e-3648bc0f51f4",
   "metadata": {},
   "outputs": [
    {
     "data": {
      "text/plain": [
       "253"
      ]
     },
     "execution_count": 4,
     "metadata": {},
     "output_type": "execute_result"
    }
   ],
   "source": [
    "comb(23,2)"
   ]
  },
  {
   "cell_type": "code",
   "execution_count": 46,
   "id": "43915e11-a43e-4b5f-8be1-a9184be766a3",
   "metadata": {},
   "outputs": [
    {
     "data": {
      "text/plain": [
       "'f4lw9gfeptxmhbb8uye6uyaf8dy9w2'"
      ]
     },
     "execution_count": 46,
     "metadata": {},
     "output_type": "execute_result"
    }
   ],
   "source": [
    "a = list(string.ascii_lowercase + string.digits )\n",
    "h = ''.join(x for x in np.random.choice(a, size= 30))\n",
    "h"
   ]
  },
  {
   "cell_type": "code",
   "execution_count": 29,
   "id": "3b0847ac-3797-44bc-a708-d4b6f90d9d5f",
   "metadata": {},
   "outputs": [
    {
     "name": "stdout",
     "output_type": "stream",
     "text": [
      "0.9728644263002064\n"
     ]
    }
   ],
   "source": [
    "p = np.arange((366-5), 365, dtype='int64')\n",
    "m = np.prod(p, dtype='int64')   \n",
    "ch = (365**(5-1))\n",
    "negative_prob = np.float64(Fraction(m,ch))\n",
    "\n",
    "print(negative_prob)"
   ]
  }
 ],
 "metadata": {
  "kernelspec": {
   "display_name": "Python 3 (ipykernel)",
   "language": "python",
   "name": "python3"
  },
  "language_info": {
   "codemirror_mode": {
    "name": "ipython",
    "version": 3
   },
   "file_extension": ".py",
   "mimetype": "text/x-python",
   "name": "python",
   "nbconvert_exporter": "python",
   "pygments_lexer": "ipython3",
   "version": "3.11.7"
  }
 },
 "nbformat": 4,
 "nbformat_minor": 5
}
