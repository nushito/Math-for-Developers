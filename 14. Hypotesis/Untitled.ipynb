{
 "cells": [
  {
   "cell_type": "code",
   "execution_count": 1,
   "id": "2396262f-3550-43d2-83db-e188f4bc7840",
   "metadata": {},
   "outputs": [],
   "source": [
    "%matplotlib inline"
   ]
  },
  {
   "cell_type": "code",
   "execution_count": 23,
   "id": "4fa19d1a-6e05-47e2-a016-35c4a82a3226",
   "metadata": {},
   "outputs": [],
   "source": [
    "import numpy as np\n",
    "import matplotlib.pyplot as plt\n",
    "from matplotlib.transforms import Affine2D\n",
    "import skimage.io\n",
    "import time\n",
    "import timeit\n",
    "import sympy\n",
    "import scipy.stats\n",
    "import scipy.io.wavfile\n",
    "from scipy.fftpack import fft, fftfreq\n",
    "import pandas as pd\n",
    "import statsmodels\n",
    "import statsmodels.api as sm\n",
    "from statsmodels.formula.api import ols\n",
    "import math\n",
    "from math import comb"
   ]
  },
  {
   "cell_type": "code",
   "execution_count": 11,
   "id": "75ec8bb2-8e41-4b65-8b02-e0df2c2b2e7d",
   "metadata": {},
   "outputs": [
    {
     "name": "stdout",
     "output_type": "stream",
     "text": [
      "-4.440892098500626e-16\n"
     ]
    }
   ],
   "source": [
    "matrix = [[2,14,1,10,5,-5,14,10], [14,9,10,9,14,11,14,6],[1,10,3,13,9,3,-3,13],[10,9,13,-4,-3,-1,-4,10],[5,14,9,-3,13,4,9,-2],[-5,11,3,-1,4,-3,14,10], [14,14,-3,-4,9,14,6,14], [10,6,13,10,-2,10,14,5]]\n",
    "d = np.linalg.det(matrix)\n",
    "d\n",
    "c = np.linalg.eig(matrix)\n",
    "v = len(c[1])\n",
    "third = c[1][3]\n",
    "fifth = c[1][7]\n",
    "\n",
    "r = np.dot(third,fifth)\n",
    "print(r)"
   ]
  },
  {
   "cell_type": "code",
   "execution_count": 13,
   "id": "c0ba1a12-9de1-459b-bc89-5f2f0b743794",
   "metadata": {},
   "outputs": [
    {
     "ename": "NameError",
     "evalue": "name 'comb' is not defined",
     "output_type": "error",
     "traceback": [
      "\u001b[1;31m---------------------------------------------------------------------------\u001b[0m",
      "\u001b[1;31mNameError\u001b[0m                                 Traceback (most recent call last)",
      "Cell \u001b[1;32mIn[13], line 1\u001b[0m\n\u001b[1;32m----> 1\u001b[0m comb(\u001b[38;5;241m6\u001b[39m,\u001b[38;5;241m6\u001b[39m)\n",
      "\u001b[1;31mNameError\u001b[0m: name 'comb' is not defined"
     ]
    }
   ],
   "source": []
  },
  {
   "cell_type": "code",
   "execution_count": 27,
   "id": "38d46227-28c6-4c4e-90ac-14e7aca71be3",
   "metadata": {},
   "outputs": [
    {
     "data": {
      "text/plain": [
       "1"
      ]
     },
     "execution_count": 27,
     "metadata": {},
     "output_type": "execute_result"
    }
   ],
   "source": [
    "\n",
    "num = np.arange(0,6)\n",
    "number = np.arange(10000, 666666)\n",
    "m = math.factorial(6)\n",
    "d  = [n for n in number if n%3 == 0]\n",
    "d\n",
    "v = comb(6,6 )\n",
    "v"
   ]
  }
 ],
 "metadata": {
  "kernelspec": {
   "display_name": "Python 3 (ipykernel)",
   "language": "python",
   "name": "python3"
  },
  "language_info": {
   "codemirror_mode": {
    "name": "ipython",
    "version": 3
   },
   "file_extension": ".py",
   "mimetype": "text/x-python",
   "name": "python",
   "nbconvert_exporter": "python",
   "pygments_lexer": "ipython3",
   "version": "3.11.7"
  }
 },
 "nbformat": 4,
 "nbformat_minor": 5
}
